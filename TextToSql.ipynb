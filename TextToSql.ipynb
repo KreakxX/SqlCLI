{
 "cells": [
  {
   "cell_type": "code",
   "execution_count": null,
   "id": "d09a8a2c",
   "metadata": {},
   "outputs": [],
   "source": [
    "# imports\n",
    "from datasets import load_dataset\n",
    "import json"
   ]
  },
  {
   "cell_type": "code",
   "execution_count": null,
   "id": "542714f1",
   "metadata": {},
   "outputs": [],
   "source": [
    "# Dataset preparation\n",
    "dataset = load_dataset(\"spider\")\n",
    "training = dataset[\"train\"]"
   ]
  },
  {
   "cell_type": "code",
   "execution_count": null,
   "id": "9beffdb4",
   "metadata": {},
   "outputs": [],
   "source": [
    "#Schemas\n",
    "\n",
    "with open(\"tables.json\", \"r\") as f:\n",
    "    tables_json = json.load(f)\n",
    "\n",
    "schemas = {}\n",
    "for db in tables_json:\n",
    "    db_id = db[\"db_id\"]\n",
    "    schemas[db_id] = {\n",
    "        \"tables\": db[\"table_names_original\"],  \n",
    "        \"columns\": db[\"column_names_original\"], \n",
    "        \"column_types\": db[\"column_types\"],     \n",
    "        \"foreign_keys\": db[\"foreign_keys\"],     \n",
    "        \"primary_keys\": db[\"primary_keys\"],     \n",
    "    }\n",
    "\n"
   ]
  },
  {
   "cell_type": "code",
   "execution_count": null,
   "id": "3ec7476e",
   "metadata": {},
   "outputs": [],
   "source": [
    "def formatDatabaseSchema(schema):\n",
    "  tables = schema[\"tables\"]\n",
    "  columns = schema[\"columns\"]\n",
    "  col_types = schema[\"column_types\"]"
   ]
  },
  {
   "cell_type": "code",
   "execution_count": null,
   "id": "04a018bf",
   "metadata": {},
   "outputs": [],
   "source": [
    "inputs = []\n",
    "targets = []\n",
    "\n",
    "for example in training :\n",
    "  db_id = example[\"db_id\"]\n",
    "  schemaText = formatDatabaseSchema[schemas[db_id]]\n",
    "  question = example[\"question\"]\n",
    "  sqlQuery = example[\"query\"]\n",
    "\n",
    "  inputs.append(f\"Question: {question} \\n {schemaText}\")\n",
    "  targets.append(sqlQuery)\n"
   ]
  }
 ],
 "metadata": {
  "kernelspec": {
   "display_name": "tf-gpu",
   "language": "python",
   "name": "python3"
  },
  "language_info": {
   "codemirror_mode": {
    "name": "ipython",
    "version": 3
   },
   "file_extension": ".py",
   "mimetype": "text/x-python",
   "name": "python",
   "nbconvert_exporter": "python",
   "pygments_lexer": "ipython3",
   "version": "3.9.21"
  }
 },
 "nbformat": 4,
 "nbformat_minor": 5
}
