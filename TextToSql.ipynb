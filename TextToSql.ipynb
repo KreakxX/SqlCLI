{
 "cells": [
  {
   "cell_type": "markdown",
   "id": "45feffac",
   "metadata": {},
   "source": [
    "# Decoder Only Transformer"
   ]
  },
  {
   "cell_type": "code",
   "execution_count": null,
   "id": "d09a8a2c",
   "metadata": {},
   "outputs": [],
   "source": [
    "# imports\n",
    "from datasets import load_dataset\n",
    "import json\n",
    "import tensorflow as tf\n",
    "from tensorflow import keras\n",
    "from keras.preprocessing.text import Tokenizer\n",
    "from keras.utils import pad_sequences\n",
    "from keras import layers\n",
    "from keras import models\n",
    "import numpy as np\n",
    "import re"
   ]
  },
  {
   "cell_type": "code",
   "execution_count": null,
   "id": "542714f1",
   "metadata": {},
   "outputs": [],
   "source": [
    "# Dataset preparation\n",
    "dataset = load_dataset(\"spider\")\n",
    "training = dataset[\"train\"]"
   ]
  },
  {
   "cell_type": "code",
   "execution_count": null,
   "id": "9beffdb4",
   "metadata": {},
   "outputs": [],
   "source": [
    "#Schemas\n",
    "\n",
    "with open(\"tables.json\", \"r\") as f:\n",
    "    tables_json = json.load(f)\n",
    "\n",
    "schemas = {}\n",
    "for db in tables_json:\n",
    "    db_id = db[\"db_id\"]\n",
    "    schemas[db_id] = {\n",
    "        \"tables\": db[\"table_names_original\"],  \n",
    "        \"columns\": db[\"column_names_original\"], \n",
    "        \"column_types\": db[\"column_types\"],     \n",
    "        \"foreign_keys\": db[\"foreign_keys\"],     \n",
    "        \"primary_keys\": db[\"primary_keys\"],     \n",
    "    }\n",
    "\n"
   ]
  },
  {
   "cell_type": "code",
   "execution_count": null,
   "id": "3ec7476e",
   "metadata": {},
   "outputs": [],
   "source": [
    "def formatDatabaseSchema(schema):\n",
    "  tables = schema[\"tables\"]\n",
    "  columns = schema[\"columns\"]\n",
    "  col_types = schema[\"column_types\"]\n",
    "  schema_str = []\n",
    "  for i, table in enumerate(tables):\n",
    "      table_cols = [c[1] for c in columns if c[0] == i] \n",
    "      table_types = [col_types[j] for j, c in enumerate(columns) if c[0] == i]\n",
    "      schema_str.append(f\"Table: {table}\")\n",
    "      for col_name, col_type in zip(table_cols, table_types):\n",
    "          schema_str.append(f\"  - {col_name} ({col_type})\")\n",
    "  return \"\\n\".join(schema_str)\n",
    "  "
   ]
  },
  {
   "cell_type": "code",
   "execution_count": null,
   "id": "04a018bf",
   "metadata": {},
   "outputs": [],
   "source": [
    "inputs = []\n",
    "targets = []\n",
    "\n",
    "for example in training :\n",
    "  db_id = example[\"db_id\"]\n",
    "  schemaText = formatDatabaseSchema(schemas[db_id])\n",
    "  question = example[\"question\"]\n",
    "  sqlQuery = example[\"query\"]\n",
    " \n",
    "  inputs.append(f\"Question: {question} \\n {schemaText}\")\n",
    "  targets.append(sqlQuery)\n",
    "\n",
    "print(inputs[0])\n"
   ]
  },
  {
   "cell_type": "code",
   "execution_count": null,
   "id": "f6dc829b",
   "metadata": {},
   "outputs": [],
   "source": [
    "# Tokenization\n",
    "def sqlTokenization(query):\n",
    "  tokens = re.findall(r\"[A-Za-z_][A-Za-z0-9_]*|\\d+|[><=!]+|[\\(\\),;\\*]\", query)\n",
    "  return tokens\n",
    "\n",
    "sql_tokenized_seq = [\" \".join(sqlTokenization(q)) for q in targets]\n",
    "tokenizer = Tokenizer(num_words= 10000, oov_token=\"<OOV>\", char_level=False,lower=False,filters=\"\")\n",
    "\n",
    "tokenizer.fit_on_texts(inputs + sql_tokenized_seq) # train on both at same time because Decoder only model\n",
    "print(len(tokenizer.word_index))\n",
    "\n",
    "sequences = tokenizer.texts_to_sequences(inputs + sql_tokenized_seq)\n",
    "max_seq_len = max(len(seq) for seq in sequences)\n",
    "sequences = pad_sequences(sequences,max_seq_len,padding=\"post\",truncating=\"post\") \n",
    "\n",
    "vocab_size = len(tokenizer.word_index) + 1\n"
   ]
  },
  {
   "cell_type": "code",
   "execution_count": null,
   "id": "bf6662ec",
   "metadata": {},
   "outputs": [],
   "source": [
    "# Trainings settings\n",
    "\n",
    "embed_dim = 384\n",
    "num_heads = 12\n",
    "ff_dim = 1536\n",
    "num_layers = 6\n",
    "\n",
    "inputs = layers.Input(shape=(max_seq_len-1))\n",
    "embedding_layer = layers.Embedding(input_dim=vocab_size, output_dim=embed_dim,mask_zero=True, name=\"Embedding_layer\")(inputs)\n",
    "positional_encoding = layers.Embedding(input_dim=max_seq_len,output_dim=embed_dim, name=\"postional_encoding_layer\")(tf.range(start=0, limit=max_seq_len-1,delta=1))\n",
    "\n",
    "x = embedding_layer + positional_encoding\n",
    "\n",
    "for i in range(num_layers):\n",
    "  selfAttention = layers.MultiHeadAttention(num_heads=num_heads,key_dim=embed_dim//num_heads,dropout=0.1,name=f\"self_attemtion_{i}\")(query=x,value=x,key=x, use_causal_mask=True)\n",
    "\n",
    "  x1 = layers.LayerNormalization(epsilon=1e-6)(selfAttention + x)\n",
    "\n",
    "  ffn = keras.Sequential([\n",
    "    layers.Dense(ff_dim,activation=\"gelu\"),\n",
    "    layers.Dropout(0.1),\n",
    "    layers.Dense(embed_dim)\n",
    "  ], name=f\"feed_forward_{i}\")\n",
    "\n",
    "  ffn_output = ffn(x1)\n",
    "\n",
    "  x = layers.LayerNormalization(epsilon=1e-6)(ffn_output + x1)\n",
    "\n",
    "outputs = layers.Dense(\n",
    "  vocab_size,\n",
    "  activation=\"softmax\",\n",
    "  name=\"decoder_output_dense\"\n",
    ")\n",
    "\n"
   ]
  }
 ],
 "metadata": {
  "kernelspec": {
   "display_name": "tf-gpu",
   "language": "python",
   "name": "python3"
  },
  "language_info": {
   "codemirror_mode": {
    "name": "ipython",
    "version": 3
   },
   "file_extension": ".py",
   "mimetype": "text/x-python",
   "name": "python",
   "nbconvert_exporter": "python",
   "pygments_lexer": "ipython3",
   "version": "3.9.21"
  }
 },
 "nbformat": 4,
 "nbformat_minor": 5
}
